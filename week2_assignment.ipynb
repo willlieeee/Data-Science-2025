{
 "cells": [
  {
   "cell_type": "markdown",
   "id": "b394a030",
   "metadata": {},
   "source": [
    "Import Libraries"
   ]
  },
  {
   "cell_type": "code",
   "execution_count": null,
   "id": "ce566ac6",
   "metadata": {},
   "outputs": [],
   "source": [
    "#TODO: Import Libraries\n",
    "\n"
   ]
  },
  {
   "cell_type": "markdown",
   "id": "469970f5",
   "metadata": {},
   "source": [
    "Create a NumPy array of 15 random integers between 10 and 50. Find the mean, variance, and standard deviation."
   ]
  },
  {
   "cell_type": "code",
   "execution_count": null,
   "id": "f0c3d853",
   "metadata": {},
   "outputs": [],
   "source": [
    "#TODO: Create a NumPy array of 15 random integers between 10 and 50. Find the mean, variance, and standard deviation.\n",
    "\n",
    "\n",
    "\n",
    "print(\"Array:\", \n",
    "print(\"Mean:\", \n",
    "print(\"Variance:\",\n",
    "print(\"Standard Deviation:\","
   ]
  },
  {
   "cell_type": "markdown",
   "id": "1a96816e",
   "metadata": {},
   "source": [
    "Generate a 5x5 identity matrix"
   ]
  },
  {
   "cell_type": "code",
   "execution_count": null,
   "id": "11121780",
   "metadata": {},
   "outputs": [],
   "source": [
    "#TODO: Create a 5x5 matrix of a random number from 0 to 100\n",
    "\n"
   ]
  },
  {
   "cell_type": "code",
   "execution_count": null,
   "id": "39c289bc",
   "metadata": {},
   "outputs": [],
   "source": [
    "#TODO: Make the 5x5 to matrix transpose\n",
    "\n",
    "\n"
   ]
  },
  {
   "cell_type": "code",
   "execution_count": null,
   "id": "10736c38",
   "metadata": {},
   "outputs": [],
   "source": [
    "#TODO: Multiply the original matrix with its transpose\n",
    "\n"
   ]
  },
  {
   "cell_type": "markdown",
   "id": "96da1757",
   "metadata": {},
   "source": [
    "Import CSV and read data"
   ]
  },
  {
   "cell_type": "code",
   "execution_count": null,
   "id": "425085bd",
   "metadata": {},
   "outputs": [],
   "source": [
    "#TODO: Import CSV\n",
    "\n"
   ]
  },
  {
   "cell_type": "code",
   "execution_count": null,
   "id": "945d1fe3",
   "metadata": {},
   "outputs": [],
   "source": [
    "#TODO: Read data from CSV file into a DataFrame\n",
    "\n",
    "\n",
    "#TODO: Display the first and last 10 rows of the DataFrame\n",
    "\n",
    "\n",
    "#TODO: Get the summary statistics of the DataFrame\n",
    "\n"
   ]
  },
  {
   "cell_type": "code",
   "execution_count": null,
   "id": "dd119533",
   "metadata": {},
   "outputs": [],
   "source": [
    "#TODO: Extract specific rows and columns using loc and iloc\n",
    "\n"
   ]
  },
  {
   "cell_type": "code",
   "execution_count": null,
   "id": "84faef5a",
   "metadata": {},
   "outputs": [],
   "source": [
    "#TODO: Arrange the First name in alphabetical order"
   ]
  },
  {
   "cell_type": "code",
   "execution_count": null,
   "id": "0c2349c4",
   "metadata": {},
   "outputs": [],
   "source": [
    "#TODO: Display the city containing \"EAST\"\n",
    "\n",
    "#TODO: Count how many city containing \"EAST\", \"WEST\", \"NORTH\", and \"SOUTH\""
   ]
  }
 ],
 "metadata": {
  "kernelspec": {
   "display_name": "Python 3",
   "language": "python",
   "name": "python3"
  },
  "language_info": {
   "codemirror_mode": {
    "name": "ipython",
    "version": 3
   },
   "file_extension": ".py",
   "mimetype": "text/x-python",
   "name": "python",
   "nbconvert_exporter": "python",
   "pygments_lexer": "ipython3",
   "version": "3.10.11"
  }
 },
 "nbformat": 4,
 "nbformat_minor": 5
}
