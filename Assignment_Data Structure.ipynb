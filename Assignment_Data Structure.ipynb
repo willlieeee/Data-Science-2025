{
 "cells": [
  {
   "cell_type": "markdown",
   "id": "87a841f3",
   "metadata": {},
   "source": [
    "# Data Science - Assignment\n",
    "### Topic: Data Structures, Functions, and Files"
   ]
  },
  {
   "cell_type": "markdown",
   "id": "10ecc0c5",
   "metadata": {},
   "source": [
    "### DO NOT EDIT"
   ]
  },
  {
   "cell_type": "code",
   "execution_count": null,
   "id": "021bad4f",
   "metadata": {},
   "outputs": [],
   "source": [
    "# DO NOT EDIT\n",
    "import csv\n",
    "import random\n",
    "\n",
    "class Name:\n",
    "    def __init__(self, value):\n",
    "        self.value = value\n",
    "\n",
    "class StudentID:\n",
    "    def __init__(self, value):\n",
    "        self.value = value\n",
    "\n",
    "class Email:\n",
    "    def __init__(self, value):\n",
    "        self.value = value\n",
    "\n",
    "filename = \"student_la.csv\"\n",
    "data_list = []\n",
    "\n",
    "with open(filename, \"r\", newline=\"\", encoding=\"utf-8-sig\") as csvfile:\n",
    "    reader = csv.DictReader(csvfile)\n",
    "    \n",
    "    for row in reader:\n",
    "        name_obj = Name(row.get('Name'))\n",
    "        id_obj = StudentID(row['NIM'])\n",
    "        email_obj = Email(row['Email'])\n",
    "        data_list.append((name_obj, id_obj, email_obj))\n",
    "\n",
    "random_selection = random.sample(data_list, k=1)\n",
    "for entry in random_selection:\n",
    "    name_obj, student_id, email_obj = entry\n",
    "    print(f\"Name: {name_obj.value}, ID: {student_id.value}, Email: {email_obj.value}\")\n",
    "\n",
    "# DO NOT EDIT"
   ]
  },
  {
   "cell_type": "markdown",
   "id": "80722a9d",
   "metadata": {},
   "source": [
    "### Please input your detail information"
   ]
  },
  {
   "cell_type": "code",
   "execution_count": null,
   "id": "1ddd49ef",
   "metadata": {},
   "outputs": [],
   "source": [
    "# Please enter your name here:\n",
    "name = \"\"  # TODO: Replace with your actual name\n",
    "\n",
    "# Please enter your student ID here:\n",
    "student_id = \"27\" # TODO: Enter your Binusian ID\n",
    "\n",
    "# Please enter your email here:\n",
    "email = \"@binus.ac.id\" # TODO: Enter your BINUS email"
   ]
  },
  {
   "cell_type": "markdown",
   "id": "5bee07e5",
   "metadata": {},
   "source": [
    "## Answer the question under the #TODO line"
   ]
  },
  {
   "cell_type": "code",
   "execution_count": null,
   "id": "5ee1a489",
   "metadata": {},
   "outputs": [],
   "source": [
    "first_line = (Name(name), StudentID(student_id), Email(email))\n",
    "random_txt = random.sample(data_list, k=7)\n",
    "final_lines = [first_line] + random_txt\n",
    "\n",
    "# Write to TXT file\n",
    "with open(\"  \", \" \") as f: # TODO: Enter your filename here\n",
    "    for entry in final_lines:\n",
    "        name_obj, student_id_obj, email_obj = entry\n",
    "        f.write(f\"{name_obj.value} - {student_id_obj.value} - {email_obj.value}\\n\")\n",
    "\n",
    "print(\"Check your file.\")"
   ]
  },
  {
   "cell_type": "markdown",
   "id": "2573ad59",
   "metadata": {},
   "source": [
    "Read your .txt file and remove the \"-\" \n",
    "Then Print the output "
   ]
  },
  {
   "cell_type": "code",
   "execution_count": null,
   "id": "cc833b26",
   "metadata": {},
   "outputs": [],
   "source": [
    "#TODO: Read from TXT file and print names"
   ]
  },
  {
   "cell_type": "markdown",
   "id": "65ec4768",
   "metadata": {},
   "source": [
    "Create a dictionary where the key is the ID and the value is (Name, Email)"
   ]
  },
  {
   "cell_type": "code",
   "execution_count": null,
   "id": "99fbf72c",
   "metadata": {},
   "outputs": [],
   "source": [
    "#TODO: Create a dictionary where the key is the ID and the value is (Name, Email)"
   ]
  },
  {
   "cell_type": "markdown",
   "id": "58dacbcf",
   "metadata": {},
   "source": [
    "Read text file and count how many records are in the file"
   ]
  },
  {
   "cell_type": "code",
   "execution_count": null,
   "id": "64dc4140",
   "metadata": {},
   "outputs": [],
   "source": [
    "#TODO: Read text file and count how many records are in the file"
   ]
  },
  {
   "cell_type": "markdown",
   "id": "1a874964",
   "metadata": {},
   "source": [
    "Read text file and print only the emails."
   ]
  },
  {
   "cell_type": "code",
   "execution_count": null,
   "id": "c5473f29",
   "metadata": {},
   "outputs": [],
   "source": [
    "#TODO: Read text file and print only the emails"
   ]
  },
  {
   "cell_type": "markdown",
   "id": "1fa09f76",
   "metadata": {},
   "source": [
    "Print all lines sorted alphabetically by Name"
   ]
  },
  {
   "cell_type": "code",
   "execution_count": null,
   "id": "e6016fc1",
   "metadata": {},
   "outputs": [],
   "source": [
    "#TODO: Print all lines sorted alphabetically by Name"
   ]
  },
  {
   "cell_type": "markdown",
   "id": "e46778d6",
   "metadata": {},
   "source": [
    "Find the longest Name"
   ]
  },
  {
   "cell_type": "code",
   "execution_count": null,
   "id": "f65fcbf2",
   "metadata": {},
   "outputs": [],
   "source": [
    "#TODO: Find the longest Name"
   ]
  }
 ],
 "metadata": {
  "kernelspec": {
   "display_name": "Python 3",
   "language": "python",
   "name": "python3"
  },
  "language_info": {
   "codemirror_mode": {
    "name": "ipython",
    "version": 3
   },
   "file_extension": ".py",
   "mimetype": "text/x-python",
   "name": "python",
   "nbconvert_exporter": "python",
   "pygments_lexer": "ipython3",
   "version": "3.10.11"
  }
 },
 "nbformat": 4,
 "nbformat_minor": 5
}
